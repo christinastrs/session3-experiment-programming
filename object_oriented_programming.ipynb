{
 "cells": [
  {
   "cell_type": "code",
   "execution_count": 1,
   "metadata": {},
   "outputs": [],
   "source": [
    "def hello_world():\n",
    "    print('Hello world')"
   ]
  },
  {
   "cell_type": "code",
   "execution_count": 2,
   "metadata": {},
   "outputs": [
    {
     "name": "stdout",
     "output_type": "stream",
     "text": [
      "Hello world\n"
     ]
    }
   ],
   "source": [
    "hello_world()"
   ]
  },
  {
   "cell_type": "code",
   "execution_count": 11,
   "metadata": {},
   "outputs": [],
   "source": [
    "import math\n",
    "def circle_area(diameter):\n",
    "    area = math.pow(diameter/ 2, 2) *  math.pi\n",
    "    return area"
   ]
  },
  {
   "cell_type": "code",
   "execution_count": 17,
   "metadata": {},
   "outputs": [
    {
     "name": "stdout",
     "output_type": "stream",
     "text": [
      "3.141592653589793\n"
     ]
    }
   ],
   "source": [
    "print(circle_area(2))\n",
    "circle_5_area = circle_area(5)\n",
    "square = 4 * 4 \n",
    "rectangle = 3 * 5 \n"
   ]
  },
  {
   "cell_type": "code",
   "execution_count": 21,
   "metadata": {},
   "outputs": [],
   "source": [
    "class Circle:\n",
    "    def __init__(self, diameter): #this tells python what needs to be done when a new circle is created, self is always the first argument  in a class- it refers to the current object \n",
    "        self.radius = diameter / 2 \n",
    "\n",
    "    def area(self): \n",
    "        return math.pow(self.radius, 2) * math.pi \n",
    "    \n",
    "    def __str__(self):\n",
    "        return f'Circle with radius {self.radius}'\n",
    "\n"
   ]
  },
  {
   "cell_type": "code",
   "execution_count": 22,
   "metadata": {},
   "outputs": [
    {
     "name": "stdout",
     "output_type": "stream",
     "text": [
      "3.141592653589793\n",
      "3.141592653589793\n"
     ]
    }
   ],
   "source": [
    "example_circle = Circle(2)\n",
    "print(example_circle.area())\n",
    "print(example_circle.area())"
   ]
  },
  {
   "cell_type": "code",
   "execution_count": 24,
   "metadata": {},
   "outputs": [],
   "source": [
    "class Rectangle: \n",
    "    def __init__(self, width, height):\n",
    "        self.width = width\n",
    "        self.height = height \n",
    "\n",
    "    def area(self): \n",
    "        return self.width * self.height  \n",
    "    \n",
    "    def __str__(self):\n",
    "        return f'Rectangle of {self.width} x {self.height}'"
   ]
  },
  {
   "cell_type": "code",
   "execution_count": 25,
   "metadata": {},
   "outputs": [
    {
     "name": "stdout",
     "output_type": "stream",
     "text": [
      "Rectangle of 3 x 4\n",
      "12\n"
     ]
    }
   ],
   "source": [
    "example_rect = Rectangle(3, 4)\n",
    "print(example_rect)\n",
    "print(example_rect.area())"
   ]
  },
  {
   "cell_type": "code",
   "execution_count": 26,
   "metadata": {},
   "outputs": [],
   "source": [
    "class Square(Rectangle):\n",
    "    def __init__(self, side):\n",
    "        self.width = side\n",
    "        self.height = side\n",
    "        "
   ]
  },
  {
   "cell_type": "code",
   "execution_count": 27,
   "metadata": {},
   "outputs": [
    {
     "name": "stdout",
     "output_type": "stream",
     "text": [
      "16\n",
      "Rectangle of 4 x 4\n"
     ]
    }
   ],
   "source": [
    "example_square = Square(4)\n",
    "print(example_square.area())\n",
    "print(example_square)"
   ]
  },
  {
   "cell_type": "code",
   "execution_count": 29,
   "metadata": {},
   "outputs": [
    {
     "name": "stdout",
     "output_type": "stream",
     "text": [
      "Circle with radius 1.0: 3.141592653589793\n",
      "Circle with radius 2.5: 19.634954084936208\n",
      "Rectangle of 4 x 4: 16\n",
      "Rectangle of 3 x 5: 15\n"
     ]
    }
   ],
   "source": [
    "shapes = [\n",
    "    Circle(2), \n",
    "    Circle(5),\n",
    "    Square(4),\n",
    "    Rectangle(3,5)\n",
    "]\n",
    "\n",
    "for shape in shapes: \n",
    "    print(f'{shape}: {shape.area()}')\n"
   ]
  }
 ],
 "metadata": {
  "interpreter": {
   "hash": "63fd5069d213b44bf678585dea6b12cceca9941eaf7f819626cde1f2670de90d"
  },
  "kernelspec": {
   "display_name": "Python 3.9.1 64-bit",
   "language": "python",
   "name": "python3"
  },
  "language_info": {
   "codemirror_mode": {
    "name": "ipython",
    "version": 3
   },
   "file_extension": ".py",
   "mimetype": "text/x-python",
   "name": "python",
   "nbconvert_exporter": "python",
   "pygments_lexer": "ipython3",
   "version": "3.9.1"
  },
  "orig_nbformat": 4
 },
 "nbformat": 4,
 "nbformat_minor": 2
}
